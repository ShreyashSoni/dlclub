{
 "cells": [
  {
   "cell_type": "markdown",
   "metadata": {},
   "source": [
    "## Project - 1\n",
    "In this project, we'll build a Neural Network with two hidden layers to classify the images of hand written digits in the MNIST dataset."
   ]
  },
  {
   "cell_type": "markdown",
   "metadata": {},
   "source": [
    "<img src=\"images/neural_net.jpeg\">"
   ]
  },
  {
   "cell_type": "code",
   "execution_count": null,
   "metadata": {},
   "outputs": [],
   "source": [
    "# Import MNIST data\n",
    "from tensorflow.examples.tutorials.mnist import input_data\n",
    "mnist = input_data.read_data_sets('MNIST_data', one_hot=True)"
   ]
  },
  {
   "cell_type": "code",
   "execution_count": null,
   "metadata": {},
   "outputs": [],
   "source": [
    "import numpy as np\n",
    "\n",
    "# The features are already scaled and the data is shuffled\n",
    "train_features = mnist.train.images\n",
    "valid_features = mnist.validation.images\n",
    "test_features = mnist.test.images\n",
    "\n",
    "train_labels = mnist.train.labels.astype(np.float32)\n",
    "valid_labels = mnist.validation.labels.astype(np.float32)\n",
    "test_labels = mnist.test.labels.astype(np.float32)"
   ]
  },
  {
   "cell_type": "code",
   "execution_count": null,
   "metadata": {},
   "outputs": [],
   "source": [
    "import tensorflow as tf"
   ]
  },
  {
   "cell_type": "code",
   "execution_count": null,
   "metadata": {},
   "outputs": [],
   "source": [
    "# set the hyperparameters\n",
    "learning_rate = \n",
    "batch_size = \n",
    "epochs = \n",
    "model_path = \"/checkpoints/model.ckpt\"\n",
    "\n",
    "# network parameters\n",
    "# number of nodes in first hidden layer\n",
    "n_hidden_1 = \n",
    "# number of nodes in second hidden layer\n",
    "n_hidden_2 = \n",
    "\n",
    "n_input =  # MNIST data input (img shape: 28x28)\n",
    "n_classes =  # MNIST total classes (0-9 digits)"
   ]
  },
  {
   "cell_type": "code",
   "execution_count": null,
   "metadata": {},
   "outputs": [],
   "source": [
    "# tf Graph input\n",
    "x = \n",
    "y = \n",
    "\n",
    "# layer weights and bias\n",
    "weights = {}\n",
    "\n",
    "biases = {}"
   ]
  },
  {
   "cell_type": "code",
   "execution_count": null,
   "metadata": {},
   "outputs": [],
   "source": [
    "# function to create the model\n",
    "def neural_network(x, weights, biases):\n",
    "    # first hidden layer with RELU activation\n",
    "\n",
    "    # second hidden layer with RELU activation\n",
    "\n",
    "    # output layer with linear activation to get logits\n",
    "    \n",
    "    return output"
   ]
  },
  {
   "cell_type": "code",
   "execution_count": null,
   "metadata": {},
   "outputs": [],
   "source": [
    "def print_stats(epoch_i, sess, last_features, last_labels):\n",
    "    # print cost and validation accuracy of an epoch\n",
    "    current_cost = sess.run(cost,\n",
    "                           feed_dict={x: last_features, y: last_labels})\n",
    "    \n",
    "    valid_accuracy = sess.run(accuracy, \n",
    "                             feed_dict={x: valid_features, y: valid_labels})\n",
    "    \n",
    "    print('Epoch: {:<3} - Cost: {:<6.3} Valid Accuracy: {:<5.3}'.format(epoch_i, \n",
    "                                                                        current_cost, \n",
    "                                                                        valid_accuracy))"
   ]
  },
  {
   "cell_type": "code",
   "execution_count": null,
   "metadata": {},
   "outputs": [],
   "source": [
    "# construct model\n",
    "predictions = neural_network(x, weights, biases)\n",
    "\n",
    "# define loss and the optimizer\n",
    "cost = \n",
    "optimizer = \n",
    "\n",
    "# Initializing the variables\n",
    "init = tf.global_variables_initializer()\n",
    "\n",
    "# saver operator to save all the variables\n",
    "saver = tf.train.Saver()"
   ]
  },
  {
   "cell_type": "code",
   "execution_count": null,
   "metadata": {},
   "outputs": [],
   "source": [
    "# calculate accuracy\n",
    "correct_prediction = tf.equal(tf.argmax(predictions, 1), tf.argmax(y, 1))\n",
    "accuracy = tf.reduce_mean(tf.cast(correct_prediction, tf.float32))"
   ]
  },
  {
   "cell_type": "code",
   "execution_count": null,
   "metadata": {},
   "outputs": [],
   "source": [
    "with tf.Session() as sess:\n",
    "    # Initialize all the variables\n",
    "    sess.run(init)\n",
    "    \n",
    "    # Training cycles\n",
    "    for epoch in range(epochs):\n",
    "        total_batches = int(mnist.train.num_examples/batch_size)\n",
    "        # loop over all the batches\n",
    "        for i in range(total_batches):\n",
    "            batch_x, batch_y = mnist.train.next_batch(batch_size)\n",
    "            # run optimizer\n",
    "            opt = sess.run(optimizer, feed_dict={x: batch_x, y: batch_y})\n",
    "            \n",
    "        # display the stats\n",
    "        print_stats(epoch, sess, batch_x, batch_y)\n",
    "        \n",
    "    save_path = saver.save(sess, model_path)\n",
    "    print(\"\\nModel saved in: %s\" %save_path)"
   ]
  },
  {
   "cell_type": "code",
   "execution_count": null,
   "metadata": {},
   "outputs": [],
   "source": [
    "with tf.Session() as sess:\n",
    "    # Initialize the variables\n",
    "    sess.run(init)\n",
    "    \n",
    "    # restore the model weights from the saved model\n",
    "    load_path = saver.restore(sess, model_path)\n",
    "    print(\"Model restored from: %s\" %save_path)\n",
    "    \n",
    "    # calculate the final test accuracy\n",
    "    test_accuracy = sess.run(accuracy, feed_dict={x: test_features,\n",
    "                                                 y: test_labels})\n",
    "    \n",
    "    print('\\nTest Accuracy: {}'.format(test_accuracy))"
   ]
  }
 ],
 "metadata": {
  "kernelspec": {
   "display_name": "Python 3",
   "language": "python",
   "name": "python3"
  },
  "language_info": {
   "codemirror_mode": {
    "name": "ipython",
    "version": 3
   },
   "file_extension": ".py",
   "mimetype": "text/x-python",
   "name": "python",
   "nbconvert_exporter": "python",
   "pygments_lexer": "ipython3",
   "version": "3.6.4"
  }
 },
 "nbformat": 4,
 "nbformat_minor": 2
}
